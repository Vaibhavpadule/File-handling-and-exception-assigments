{
  "nbformat": 4,
  "nbformat_minor": 0,
  "metadata": {
    "colab": {
      "provenance": []
    },
    "kernelspec": {
      "name": "python3",
      "display_name": "Python 3"
    },
    "language_info": {
      "name": "python"
    }
  },
  "cells": [
    {
      "cell_type": "markdown",
      "source": [
        "**Practical Questions**\n",
        "\n"
      ],
      "metadata": {
        "id": "W3iMifU7H8Ge"
      }
    },
    {
      "cell_type": "markdown",
      "source": [
        "**1.How can you open a file for writing in Python and write a string to it?**\n"
      ],
      "metadata": {
        "id": "R8sxmQ-eIICg"
      }
    },
    {
      "cell_type": "code",
      "source": [
        "# Open the file in write mode\n",
        "with open(\"example.txt\", \"w\") as file:\n",
        "    # Write a string to the file\n",
        "    file.write(\"Hello, world!\")\n"
      ],
      "metadata": {
        "id": "2oCT0L9mJd-Y"
      },
      "execution_count": 1,
      "outputs": []
    },
    {
      "cell_type": "markdown",
      "source": [
        "**2.Write a Python program to read the contents of a file and print each line**"
      ],
      "metadata": {
        "id": "KIgGvA5hKJvC"
      }
    },
    {
      "cell_type": "code",
      "source": [
        "# File: read_file.py\n",
        "\n",
        "def read_and_print_file(filename):\n",
        "    try:\n",
        "        with open(filename, 'r') as file:\n",
        "            for line in file:\n",
        "                print(line.strip())  # .strip() removes the trailing newline character\n",
        "    except FileNotFoundError:\n",
        "        print(f\"Error: The file '{filename}' was not found.\")\n",
        "    except IOError:\n",
        "        print(f\"Error: Could not read the file '{filename}'.\")\n",
        "\n",
        "# Example usage\n",
        "if __name__ == \"__main__\":\n",
        "    filename = input(\"Enter the filename to read: \")\n",
        "    read_and_print_file(filename)\n"
      ],
      "metadata": {
        "id": "uNrMJOC1KVC1"
      },
      "execution_count": null,
      "outputs": []
    },
    {
      "cell_type": "markdown",
      "source": [
        "**3.How would you handle a case where the file doesn't exist while trying to open it for reading**\n"
      ],
      "metadata": {
        "id": "7VKWaxsuKiUO"
      }
    },
    {
      "cell_type": "code",
      "source": [
        "filename = \"somefile.txt\"\n",
        "\n",
        "try:\n",
        "    with open(filename, 'r') as file:\n",
        "        content = file.read()\n",
        "        print(content)\n",
        "except FileNotFoundError:\n",
        "    print(f\"Error: The file '{filename}' does not exist.\")\n"
      ],
      "metadata": {
        "id": "DE7AWFrZKpbL"
      },
      "execution_count": null,
      "outputs": []
    },
    {
      "cell_type": "markdown",
      "source": [
        "**4.Write a Python script that reads from one file and writes its content to another file**"
      ],
      "metadata": {
        "id": "92bD624cK0wa"
      }
    },
    {
      "cell_type": "markdown",
      "source": [
        "def copy_file(source_path, destination_path):\n",
        "    try:\n",
        "        with open(source_path, 'r') as source_file:\n",
        "            content = source_file.read()\n",
        "\n",
        "        with open(destination_path, 'w') as destination_file:\n",
        "            destination_file.write(content)\n",
        "\n",
        "        print(f\"Content copied from '{source_path}' to '{destination_path}' successfully.\")\n",
        "\n",
        "    except FileNotFoundError:\n",
        "        print(f\"Error: The file '{source_path}' was not found.\")\n",
        "    except Exception as e:\n",
        "        print(f\"An error occurred: {e}\")\n",
        "\n",
        "\n",
        "if __name__ == \"__main__\":\n",
        "    # Example usage - customize paths as needed\n",
        "    source = input(\"Enter the source file path: \")\n",
        "    destination = input(\"Enter the destination file path: \")\n",
        "    copy_file(source, destination)\n"
      ],
      "metadata": {
        "id": "YfXdQBAEK-OA"
      }
    },
    {
      "cell_type": "markdown",
      "source": [
        "**5.How would you catch and handle division by zero error in Python?**"
      ],
      "metadata": {
        "id": "NrnxEnl8Ljuq"
      }
    },
    {
      "cell_type": "code",
      "source": [
        "try:\n",
        "    result = 10 / 0\n",
        "except ZeroDivisionError:\n",
        "    print(\"Error: Division by zero is not allowed.\")\n",
        "else:\n",
        "    print(\"Result:\", result)\n",
        "finally:\n",
        "    print(\"Execution completed.\")\n"
      ],
      "metadata": {
        "id": "CzaIXX9qNDCe"
      },
      "execution_count": null,
      "outputs": []
    },
    {
      "cell_type": "markdown",
      "source": [
        "**6.Write a Python program that logs an error message to a log file when a division by zero exception occurs**"
      ],
      "metadata": {
        "id": "uxVCFYRUNbPf"
      }
    },
    {
      "cell_type": "code",
      "source": [
        "import logging\n",
        "\n",
        "# Configure logging to write to a file\n",
        "logging.basicConfig(\n",
        "    filename='error_log.log',\n",
        "    level=logging.ERROR,\n",
        "    format='%(asctime)s - %(levelname)s - %(message)s'\n",
        ")\n",
        "\n",
        "def divide(a, b):\n",
        "    try:\n",
        "        result = a / b\n",
        "        return result\n",
        "    except ZeroDivisionError as e:\n",
        "        logging.error(\"Attempted to divide by zero: %s\", e)\n",
        "        print(\"An error occurred. Please check the log file for details.\")\n",
        "        return None\n",
        "\n",
        "# Example usage\n",
        "if __name__ == \"__main__\":\n",
        "    x = 10\n",
        "    y = 0  # This will cause a division by zero\n",
        "    divide(x, y)\n"
      ],
      "metadata": {
        "id": "ilM6AQdANkY0"
      },
      "execution_count": null,
      "outputs": []
    },
    {
      "cell_type": "markdown",
      "source": [
        "**7.How do you log information at different levels (INFO, ERROR, WARNING) in Python using the logging module?**"
      ],
      "metadata": {
        "id": "ZAmGjPxfOBcr"
      }
    },
    {
      "cell_type": "code",
      "source": [
        "import logging\n",
        "\n",
        "# Configure the logging system\n",
        "logging.basicConfig(\n",
        "    level=logging.DEBUG,  # Minimum level to handle\n",
        "    format='%(asctime)s - %(levelname)s - %(message)s',\n",
        "    filename='app.log',   # Optional: write logs to a file\n",
        "    filemode='w'          # Overwrite the log file each run\n",
        ")\n",
        "\n",
        "# Logging messages at different severity levels\n",
        "logging.debug(\"This is a DEBUG message\")     # For detailed diagnostic output\n",
        "logging.info(\"This is an INFO message\")      # For general information\n",
        "logging.warning(\"This is a WARNING message\") # For something unexpected\n",
        "logging.error(\"This is an ERROR message\")    # For a more serious problem\n",
        "logging.critical(\"This is a CRITICAL message\") # For severe errors or crashes\n"
      ],
      "metadata": {
        "id": "7EiCiyHYORU1"
      },
      "execution_count": null,
      "outputs": []
    },
    {
      "cell_type": "markdown",
      "source": [
        "**8.Write a program to handle a file opening error using exception handling**"
      ],
      "metadata": {
        "id": "HzBaMt_xOakS"
      }
    },
    {
      "cell_type": "code",
      "source": [
        "def open_file(filename):\n",
        "    try:\n",
        "        with open(filename, 'r') as file:\n",
        "            contents = file.read()\n",
        "            print(\"File contents:\\n\", contents)\n",
        "    except FileNotFoundError:\n",
        "        print(f\"Error: The file '{filename}' was not found.\")\n",
        "    except IOError:\n",
        "        print(f\"Error: An I/O error occurred while accessing '{filename}'.\")\n",
        "\n",
        "# Example usage\n",
        "filename = input(\"Enter the filename to open: \")\n",
        "open_file(filename)\n"
      ],
      "metadata": {
        "id": "KHcQ5BxnOjp2"
      },
      "execution_count": null,
      "outputs": []
    },
    {
      "cell_type": "markdown",
      "source": [
        "**9. How can you read a file line by line and store its content in a list in Python?**\n"
      ],
      "metadata": {
        "id": "dQKGhIk-O1Rv"
      }
    },
    {
      "cell_type": "code",
      "source": [
        "with open('filename.txt', 'r') as file:\n",
        "    lines = [line.strip() for line in file]\n",
        "with open('filename.txt', 'r') as file:\n",
        "    lines = file.readlines()\n",
        "    lines = [line.strip() for line in lines]\n"
      ],
      "metadata": {
        "id": "bJgMfjGXO77D"
      },
      "execution_count": null,
      "outputs": []
    },
    {
      "cell_type": "markdown",
      "source": [
        "**10. How can you append data to an existing file in Python?**"
      ],
      "metadata": {
        "id": "6paPeBmpPTod"
      }
    },
    {
      "cell_type": "code",
      "source": [
        "# Open the file in append mode\n",
        "with open('example.txt', 'a') as file:\n",
        "    file.write('This line will be added to the end of the file.\\n')\n"
      ],
      "metadata": {
        "id": "9L_Q9RyfQOdo"
      },
      "execution_count": null,
      "outputs": []
    },
    {
      "cell_type": "markdown",
      "source": [
        "**11. Write a Python program that uses a try-except block to handle an error when attempting to access a\n",
        "dictionary key that doesn't exist**"
      ],
      "metadata": {
        "id": "3Rx7IeINRgTC"
      }
    },
    {
      "cell_type": "code",
      "source": [
        "# Sample dictionary\n",
        "person = {\n",
        "    \"name\": \"Alice\",\n",
        "    \"age\": 30\n",
        "}\n",
        "\n",
        "# Attempt to access a key that may not exist\n",
        "try:\n",
        "    # This will raise a KeyError if 'address' is not in the dictionary\n",
        "    address = person[\"address\"]\n",
        "    print(\"Address:\", address)\n",
        "except KeyError:\n",
        "    print(\"Error: The key 'address' does not exist in the dictionary.\")\n"
      ],
      "metadata": {
        "id": "Kzxczw8TSN71"
      },
      "execution_count": null,
      "outputs": []
    },
    {
      "cell_type": "markdown",
      "source": [
        "**12. Write a program that demonstrates using multiple except blocks to handle different types of exceptions**"
      ],
      "metadata": {
        "id": "GGdX4CvgSY0y"
      }
    },
    {
      "cell_type": "code",
      "source": [
        "def divide_numbers():\n",
        "    try:\n",
        "        numerator = int(input(\"Enter the numerator: \"))\n",
        "        denominator = int(input(\"Enter the denominator: \"))\n",
        "        result = numerator / denominator\n",
        "        print(f\"The result is {result}\")\n",
        "    except ValueError:\n",
        "        print(\"Error: Please enter valid integers.\")\n",
        "    except ZeroDivisionError:\n",
        "        print(\"Error: Cannot divide by zero.\")\n",
        "    except Exception as e:\n",
        "        print(f\"An unexpected error occurred: {e}\")\n",
        "\n",
        "divide_numbers()\n"
      ],
      "metadata": {
        "id": "m-rbVu68SfxC"
      },
      "execution_count": null,
      "outputs": []
    },
    {
      "cell_type": "markdown",
      "source": [
        "**13.How would you check if a file exists before attempting to read it in Python**"
      ],
      "metadata": {
        "id": "lg92BoKOSlsQ"
      }
    },
    {
      "cell_type": "code",
      "source": [
        "import os\n",
        "\n",
        "file_path = 'example.txt'\n",
        "\n",
        "if os.path.exists(file_path):\n",
        "    with open(file_path, 'r') as file:\n",
        "        content = file.read()\n",
        "    print(content)\n",
        "else:\n",
        "    print(f\"File '{file_path}' does not exist.\")\n",
        "\n",
        "    from pathlib import Path\n",
        "\n",
        "file_path = Path('example.txt')\n",
        "\n",
        "if file_path.exists():\n",
        "    with file_path.open('r') as file:\n",
        "        content = file.read()\n",
        "        print(content)\n",
        "else:\n",
        "    print(\"File does not exist.\")\n",
        "\n"
      ],
      "metadata": {
        "id": "Wnx-LkuZSr5B"
      },
      "execution_count": null,
      "outputs": []
    },
    {
      "cell_type": "markdown",
      "source": [
        "**14. Write a program that uses the logging module to log both informational and error messages**"
      ],
      "metadata": {
        "id": "VAiJXNSKTYXW"
      }
    },
    {
      "cell_type": "code",
      "source": [
        "import logging\n",
        "\n",
        "# Configure the logging\n",
        "logging.basicConfig(\n",
        "    level=logging.DEBUG,  # Set to DEBUG to capture all levels of logs\n",
        "    format='%(asctime)s - %(levelname)s - %(message)s',\n",
        "    datefmt='%Y-%m-%d %H:%M:%S'\n",
        ")\n",
        "\n",
        "def main():\n",
        "    logging.info(\"This is an informational message.\")\n",
        "\n",
        "    try:\n",
        "        # Example operation that could cause an error\n",
        "        result = 10 / 0\n",
        "    except ZeroDivisionError as e:\n",
        "        logging.error(f\"An error occurred: {e}\")\n",
        "\n",
        "if __name__ == \"__main__\":\n",
        "    main()\n"
      ],
      "metadata": {
        "id": "jObUMBzRTfE3"
      },
      "execution_count": null,
      "outputs": []
    },
    {
      "cell_type": "markdown",
      "source": [
        "**15.Write a Python program that prints the content of a file and handles the case when the file is empty.**"
      ],
      "metadata": {
        "id": "_CkJvijBToXS"
      }
    },
    {
      "cell_type": "code",
      "source": [
        "def print_file_content(filename):\n",
        "    try:\n",
        "        with open(filename, 'r') as file:\n",
        "            content = file.read()\n",
        "            if content:\n",
        "                print(content)\n",
        "            else:\n",
        "                print(\"The file is empty.\")\n",
        "    except FileNotFoundError:\n",
        "        print(f\"Error: The file '{filename}' does not exist.\")\n",
        "    except Exception as e:\n",
        "        print(f\"An error occurred: {e}\")\n",
        "\n",
        "# Example usage:\n",
        "filename = 'example.txt'\n",
        "print_file_content(filename)\n"
      ],
      "metadata": {
        "id": "2sdmN3DnTz66"
      },
      "execution_count": null,
      "outputs": []
    },
    {
      "cell_type": "markdown",
      "source": [
        "**16.Demonstrate how to use memory profiling to check the memory usage of a small program.**"
      ],
      "metadata": {
        "id": "cIUk1EYIT059"
      }
    },
    {
      "cell_type": "code",
      "source": [
        "\n",
        "\n",
        "from memory_profiler import profile\n",
        "\n",
        "@profile\n",
        "def my_function():\n",
        "    a = [1] * (10**6)    # allocate a list of 1 million integers\n",
        "    b = [2] * (2 * 10**6) # allocate a list of 2 million integers\n",
        "    del b                # delete b to free memory\n",
        "    return a\n",
        "\n",
        "if __name__ == '__main__':\n",
        "    my_function()\n",
        "\n",
        "\n"
      ],
      "metadata": {
        "id": "OK9N3EL_T7kq"
      },
      "execution_count": null,
      "outputs": []
    },
    {
      "cell_type": "markdown",
      "source": [
        "**17. Write a Python program to create and write a list of numbers to a file, one number per line**"
      ],
      "metadata": {
        "id": "-i2xMc-0UNn9"
      }
    },
    {
      "cell_type": "code",
      "source": [
        "# List of numbers\n",
        "numbers = [1, 2, 3, 4, 5, 6, 7, 8, 9, 10]\n",
        "\n",
        "# Open a file in write mode\n",
        "with open('numbers.txt', 'w') as file:\n",
        "    # Write each number on a new line\n",
        "    for number in numbers:\n",
        "        file.write(f\"{number}\\n\")\n",
        "\n",
        "print(\"Numbers have been written to numbers.txt\")\n"
      ],
      "metadata": {
        "id": "t-_WXrkiUUTt"
      },
      "execution_count": null,
      "outputs": []
    },
    {
      "cell_type": "markdown",
      "source": [
        "**18. How would you implement a basic logging setup that logs to a file with rotation after 1MB?**"
      ],
      "metadata": {
        "id": "FYZMpnlaUbJo"
      }
    },
    {
      "cell_type": "code",
      "source": [
        "import logging\n",
        "from logging.handlers import RotatingFileHandler\n",
        "\n",
        "# Create a logger\n",
        "logger = logging.getLogger('my_logger')\n",
        "logger.setLevel(logging.DEBUG)  # Set minimum log level\n",
        "\n",
        "# Create a rotating file handler\n",
        "handler = RotatingFileHandler('app.log', maxBytes=1_000_000, backupCount=5)\n",
        "handler.setLevel(logging.DEBUG)\n",
        "\n",
        "# Create a logging format\n",
        "formatter = logging.Formatter('%(asctime)s - %(levelname)s - %(message)s')\n",
        "handler.setFormatter(formatter)\n",
        "\n",
        "# Add the handler to the logger\n",
        "logger.addHandler(handler)\n",
        "\n",
        "# Example usage\n",
        "logger.debug('This is a debug message')\n",
        "logger.info('This is an info message')\n",
        "logger.error('This is an error message')\n"
      ],
      "metadata": {
        "id": "5m2d6jPaUiAc"
      },
      "execution_count": null,
      "outputs": []
    },
    {
      "cell_type": "markdown",
      "source": [
        "**19. Write a program that handles both IndexError and KeyError using a try-except block**"
      ],
      "metadata": {
        "id": "tiWwioTiUo5P"
      }
    },
    {
      "cell_type": "code",
      "source": [
        "def access_elements():\n",
        "    my_list = [10, 20, 30]\n",
        "    my_dict = {'a': 1, 'b': 2}\n",
        "\n",
        "    try:\n",
        "        # Attempt to access an invalid list index\n",
        "        print(my_list[5])\n",
        "\n",
        "        # Attempt to access a missing dictionary key\n",
        "        print(my_dict['z'])\n",
        "\n",
        "    except IndexError:\n",
        "        print(\"Caught an IndexError: List index out of range!\")\n",
        "\n",
        "    except KeyError:\n",
        "        print(\"Caught a KeyError: Key not found in dictionary!\")\n",
        "\n",
        "access_elements()\n"
      ],
      "metadata": {
        "id": "C0Yn0msBUvDN"
      },
      "execution_count": null,
      "outputs": []
    },
    {
      "cell_type": "markdown",
      "source": [
        "**20. How would you open a file and read its contents using a context manager in Python?**"
      ],
      "metadata": {
        "id": "2nPUSkFPU0RI"
      }
    },
    {
      "cell_type": "code",
      "source": [
        "with open('filename.txt', 'r') as file:\n",
        "    contents = file.read()\n",
        "    print(contents)\n"
      ],
      "metadata": {
        "id": "vUXE6wWxU6mR"
      },
      "execution_count": null,
      "outputs": []
    },
    {
      "cell_type": "markdown",
      "source": [
        "**21. Write a Python program that reads a file and prints the number of occurrences of a specific word**"
      ],
      "metadata": {
        "id": "_1EiuqO0VM9O"
      }
    },
    {
      "cell_type": "code",
      "source": [
        "def count_word_in_file(filename, word):\n",
        "    try:\n",
        "        with open(filename, 'r', encoding='utf-8') as file:\n",
        "            text = file.read().lower()  # Read and convert to lowercase for case-insensitive search\n",
        "            word = word.lower()\n",
        "            words = text.split()  # Split text into words\n",
        "            count = words.count(word)  # Count occurrences\n",
        "        print(f\"The word '{word}' occurs {count} times in the file '{filename}'.\")\n",
        "    except FileNotFoundError:\n",
        "        print(f\"Error: The file '{filename}' does not exist.\")\n",
        "    except Exception as e:\n",
        "        print(f\"An error occurred: {e}\")\n",
        "\n",
        "# Example usage:\n",
        "if __name__ == \"__main__\":\n",
        "    filename = input(\"Enter the filename: \")\n",
        "    word = input(\"Enter the word to count: \")\n",
        "    count_word_in_file(filename, word)\n"
      ],
      "metadata": {
        "id": "u-jG82QqVTD6"
      },
      "execution_count": null,
      "outputs": []
    },
    {
      "cell_type": "markdown",
      "source": [
        "**22. How can you check if a file is empty before attempting to read its contents?**"
      ],
      "metadata": {
        "id": "7KhLXW-EVgDx"
      }
    },
    {
      "cell_type": "code",
      "source": [
        "import os\n",
        "\n",
        "file_path = 'example.txt'\n",
        "\n",
        "if os.path.getsize(file_path) > 0:\n",
        "    with open(file_path, 'r') as f:\n",
        "        contents = f.read()\n",
        "        print(contents)\n",
        "else:\n",
        "    print(\"File is empty.\")\n",
        "with open('example.txt', 'r') as f:\n",
        "    contents = f.read()\n",
        "    if contents:\n",
        "        print(contents)\n",
        "    else:\n",
        "        print(\"File is empty.\")\n"
      ],
      "metadata": {
        "id": "zXf_9sIzVmTA"
      },
      "execution_count": null,
      "outputs": []
    },
    {
      "cell_type": "markdown",
      "source": [
        "**23. Write a Python program that writes to a log file when an error occurs during file handling.**"
      ],
      "metadata": {
        "id": "Vxpo728cV1m0"
      }
    },
    {
      "cell_type": "code",
      "source": [
        "import logging\n",
        "\n",
        "# Configure logging to write to a file called error.log\n",
        "logging.basicConfig(\n",
        "    filename='error.log',\n",
        "    level=logging.ERROR,\n",
        "    format='%(asctime)s - %(levelname)s - %(message)s'\n",
        ")\n",
        "\n",
        "def read_file(filepath):\n",
        "    try:\n",
        "        with open(filepath, 'r') as file:\n",
        "            content = file.read()\n",
        "            print(content)\n",
        "    except Exception as e:\n",
        "        logging.error(f\"Error occurred while handling the file '{filepath}': {e}\")\n",
        "        print(\"An error occurred. Check the error log for details.\")\n",
        "\n",
        "# Example usage:\n",
        "read_file('nonexistent_file.txt')\n"
      ],
      "metadata": {
        "id": "MCVwFwuEWAij"
      },
      "execution_count": null,
      "outputs": []
    }
  ]
}